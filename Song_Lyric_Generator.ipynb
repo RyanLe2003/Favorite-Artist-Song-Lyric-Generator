{
  "nbformat": 4,
  "nbformat_minor": 0,
  "metadata": {
    "colab": {
      "provenance": [],
      "authorship_tag": "ABX9TyP6jS3yHXWb1FZW/LQ1GXn+",
      "include_colab_link": true
    },
    "kernelspec": {
      "name": "python3",
      "display_name": "Python 3"
    },
    "language_info": {
      "name": "python"
    }
  },
  "cells": [
    {
      "cell_type": "markdown",
      "metadata": {
        "id": "view-in-github",
        "colab_type": "text"
      },
      "source": [
        "<a href=\"https://colab.research.google.com/github/RyanLe2003/Favorite-Artist-Song-Lyric-Generator/blob/main/Song_Lyric_Generator.ipynb\" target=\"_parent\"><img src=\"https://colab.research.google.com/assets/colab-badge.svg\" alt=\"Open In Colab\"/></a>"
      ]
    },
    {
      "cell_type": "code",
      "execution_count": null,
      "metadata": {
        "id": "i6Z9VF-MegyF"
      },
      "outputs": [],
      "source": [
        "print(\"This is a song lyrics generator!\")\n",
        "print(\"--------------------------------\")\n",
        "print(\"You will enter the name of your favorite artist and the generator will produce a song that sounds like it could be one of the artist's'\")\n",
        "print(\"The process may take some time and make sure your spelling is correct\")\n",
        "print(\"\")\n",
        "artist = input(\"Enter the name of your favorite artist: \").lower().replace(\" \", \"-\")"
      ]
    },
    {
      "cell_type": "code",
      "source": [
        "import requests\n",
        "import time\n",
        "from bs4 import BeautifulSoup\n",
        "\n",
        "#scrape favorite artist site for all hyperlinks\n",
        "url = f\"https://www.songlyrics.com/{artist}-lyrics/\" \n",
        "page = requests.get(url)\n",
        "homepage = BeautifulSoup(page.text, \"html.parser\")\n",
        "\n",
        "#find individual hyperlinks and add them to the list\n",
        "entries = homepage.find_all(\"a\", attrs={\"itemprop\": \"url\"})\n",
        "\n",
        "all_links = []\n",
        "for entry in entries:\n",
        "  all_links.append(entry.attrs[\"href\"])\n",
        "\n",
        "#append the lyrics from each hyperlink(unique song) to a list\n",
        "lyrics = []\n",
        "for link in all_links:\n",
        "    response = requests.get(link)\n",
        "    individual_song_soup = BeautifulSoup(response.text, \"html.parser\")\n",
        "    individual_lyrics = individual_song_soup.find(\"p\", attrs={\"id\": \"songLyricsDiv\", \"class\": \"songLyricsV14 iComment-text\"})\n",
        "    individual_lyrics= str(individual_lyrics).replace('<p class=\"songLyricsV14 iComment-text\" id=\"songLyricsDiv\">', \"\") #clean data\n",
        "    individual_lyrics = str(individual_lyrics).replace('</p>', '') #clean data\n",
        "    lyrics.append(str(individual_lyrics))\n",
        "    time.sleep(0.1) #add to prevent getting banned from site"
      ],
      "metadata": {
        "id": "xKH0gCyufOIO"
      },
      "execution_count": 6,
      "outputs": []
    },
    {
      "cell_type": "code",
      "source": [
        "import pickle\n",
        "pickle.dump(lyrics, open(\"lyrics.pkl\", \"wb\"))"
      ],
      "metadata": {
        "id": "3SZ8e2kZogYB"
      },
      "execution_count": 7,
      "outputs": []
    },
    {
      "cell_type": "code",
      "source": [
        "def train_markov_chain(lyrics):\n",
        "    \"\"\"\n",
        "    Args:\n",
        "      - lyrics: a list of strings, where each string represents\n",
        "                the lyrics of one song by an artist.\n",
        "    \n",
        "    Returns:\n",
        "      A dict that maps a tuple of 2 words (\"bigram\") to a list of\n",
        "      words that follow that bigram, representing the Markov\n",
        "      chain trained on the lyrics.\n",
        "    \"\"\"\n",
        "    chain = {(None, \"<START>\"): []}\n",
        "    \n",
        "    for lyric in lyrics:\n",
        "        \n",
        "        line = lyric.replace(\"\\n\", \" <N> \") \n",
        "        line = line.split()\n",
        "        \n",
        "        previous_word1 = None\n",
        "        previous_word2 = \"<START>\"\n",
        "        for word in line:\n",
        "          bigram = (previous_word1, previous_word2)\n",
        "          if bigram not in chain:\n",
        "            chain[bigram] = []\n",
        "          chain[bigram].append(word)\n",
        "          previous_word1 = previous_word2\n",
        "          previous_word2 = word\n",
        "\n",
        "        bigram = (previous_word1, previous_word2)\n",
        "        if bigram not in chain:\n",
        "          chain[bigram] = []\n",
        "        chain[bigram].append(\"<END>\")\n",
        "          \n",
        "    return chain"
      ],
      "metadata": {
        "id": "LvHI8jEPn1sV"
      },
      "execution_count": 8,
      "outputs": []
    },
    {
      "cell_type": "code",
      "source": [
        "# Load the pickled lyrics object\n",
        "import pickle\n",
        "lyrics = pickle.load(open(\"lyrics.pkl\", \"rb\"))\n",
        "\n",
        "# Call the function you wrote above.\n",
        "chain = train_markov_chain(lyrics)\n",
        "\n",
        "# What words tend to start a song\n",
        "print(chain[(None, \"<START>\")])"
      ],
      "metadata": {
        "id": "nxV7ztbRn9YO"
      },
      "execution_count": null,
      "outputs": []
    },
    {
      "cell_type": "code",
      "source": [
        "import random\n",
        "\n",
        "def generate_new_lyrics(chain):\n",
        "    \"\"\"\n",
        "    Args:\n",
        "      - chain: a dict representing the Markov chain,\n",
        "               such as one generated by generate_new_lyrics()\n",
        "    \n",
        "    Returns:\n",
        "      A string representing the randomly generated song.\n",
        "    \"\"\"\n",
        "    \n",
        "    # a list for storing the generated words\n",
        "    words = []\n",
        "    \n",
        "    # generate the first word\n",
        "    words.append(random.choice(chain[(None, \"<START>\")]))\n",
        "    \n",
        "    #generate other words\n",
        "    first = \"<START>\"\n",
        "    second = words[-1]\n",
        "    \n",
        "    while \"<END>\" not in words:\n",
        "        next_word = random.choice(chain[(first, second)])\n",
        "        words.append(next_word)\n",
        "        first = second\n",
        "        second = next_word\n",
        "    \n",
        "    # join the words together into a string with line breaks\n",
        "    lyrics = \" \".join(words[:-1])\n",
        "    return \"\\n\".join(lyrics.split(\"<N>\"))"
      ],
      "metadata": {
        "id": "2HuvYwTioE03"
      },
      "execution_count": 10,
      "outputs": []
    },
    {
      "cell_type": "code",
      "source": [
        "print(\"run this cell as many times you want to generate new songs\")\n",
        "print(\"\")\n",
        "print(generate_new_lyrics(chain))"
      ],
      "metadata": {
        "id": "v6g7Xg71oV_y"
      },
      "execution_count": null,
      "outputs": []
    }
  ]
}